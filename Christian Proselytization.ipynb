{
 "cells": [
  {
   "cell_type": "markdown",
   "metadata": {},
   "source": [
    "# If this isn't sinister, I don't know what is </font>"
   ]
  },
  {
   "cell_type": "markdown",
   "metadata": {},
   "source": [
    "---  \n",
    "\n",
    "This notebook contains some analysis on data available through <a href='https://joshuaproject.net/'>The Joshua Project </a>- which is described<sup>[1]</sup> as an organization seeking to highlight the ethnic groups of the world with the least followers of evangelical Christianity."
   ]
  },
  {
   "cell_type": "markdown",
   "metadata": {},
   "source": [
    "### Importing the tools and libraries"
   ]
  },
  {
   "cell_type": "code",
   "execution_count": 67,
   "metadata": {},
   "outputs": [],
   "source": [
    "import pandas as pd\n",
    "import matplotlib.pyplot as plt\n",
    "from matplotlib.pylab import rcParams\n",
    "import gmaps\n",
    "import math\n",
    "import gmplot\n",
    "import iso3166 as iso\n",
    "from iso3166 import countries\n",
    "import geocoder\n",
    "\n",
    "%matplotlib inline\n",
    "rcParams['figure.figsize'] = (17,17)"
   ]
  },
  {
   "cell_type": "markdown",
   "metadata": {},
   "source": [
    "### Importing the dataset  \n",
    "  \n",
    "The dataset is available for download [here]()."
   ]
  },
  {
   "cell_type": "code",
   "execution_count": 2,
   "metadata": {},
   "outputs": [],
   "source": [
    "data = pd.read_csv('data/AllPeoplesByCountry.csv', skiprows=1, skipfooter=16, engine='python')"
   ]
  },
  {
   "cell_type": "code",
   "execution_count": 3,
   "metadata": {
    "scrolled": false
   },
   "outputs": [
    {
     "data": {
      "text/html": [
       "<div>\n",
       "<style>\n",
       "    .dataframe thead tr:only-child th {\n",
       "        text-align: right;\n",
       "    }\n",
       "\n",
       "    .dataframe thead th {\n",
       "        text-align: left;\n",
       "    }\n",
       "\n",
       "    .dataframe tbody tr th {\n",
       "        vertical-align: top;\n",
       "    }\n",
       "</style>\n",
       "<table border=\"1\" class=\"dataframe\">\n",
       "  <thead>\n",
       "    <tr style=\"text-align: right;\">\n",
       "      <th></th>\n",
       "      <th>ROG3</th>\n",
       "      <th>Ctry</th>\n",
       "      <th>PeopleID3</th>\n",
       "      <th>ROP3</th>\n",
       "      <th>PeopNameAcrossCountries</th>\n",
       "      <th>PeopNameInCountry</th>\n",
       "      <th>Population</th>\n",
       "      <th>JPScale</th>\n",
       "      <th>LeastReached</th>\n",
       "      <th>ROL3</th>\n",
       "      <th>...</th>\n",
       "      <th>RegionCode</th>\n",
       "      <th>RegionName</th>\n",
       "      <th>ROG2</th>\n",
       "      <th>Continent</th>\n",
       "      <th>10_40Window</th>\n",
       "      <th>RaceCode</th>\n",
       "      <th>Latitude</th>\n",
       "      <th>Longitude</th>\n",
       "      <th>WorkersMin</th>\n",
       "      <th>WorkersMax</th>\n",
       "    </tr>\n",
       "  </thead>\n",
       "  <tbody>\n",
       "    <tr>\n",
       "      <th>0</th>\n",
       "      <td>AF</td>\n",
       "      <td>Afghanistan</td>\n",
       "      <td>14372</td>\n",
       "      <td>107989.0</td>\n",
       "      <td>Afghan</td>\n",
       "      <td>Afghan</td>\n",
       "      <td>8207000.0</td>\n",
       "      <td>1</td>\n",
       "      <td>Y</td>\n",
       "      <td>prs</td>\n",
       "      <td>...</td>\n",
       "      <td>5</td>\n",
       "      <td>Central Asia</td>\n",
       "      <td>ASI</td>\n",
       "      <td>Asia</td>\n",
       "      <td>Y</td>\n",
       "      <td>CNT24f</td>\n",
       "      <td>31.15621</td>\n",
       "      <td>62.14612</td>\n",
       "      <td>165</td>\n",
       "      <td>170</td>\n",
       "    </tr>\n",
       "    <tr>\n",
       "      <th>1</th>\n",
       "      <td>AF</td>\n",
       "      <td>Afghanistan</td>\n",
       "      <td>19409</td>\n",
       "      <td>100096.0</td>\n",
       "      <td>Afshari</td>\n",
       "      <td>Afshari</td>\n",
       "      <td>13000.0</td>\n",
       "      <td>1</td>\n",
       "      <td>Y</td>\n",
       "      <td>azb</td>\n",
       "      <td>...</td>\n",
       "      <td>5</td>\n",
       "      <td>Central Asia</td>\n",
       "      <td>ASI</td>\n",
       "      <td>Asia</td>\n",
       "      <td>Y</td>\n",
       "      <td>MSY41a</td>\n",
       "      <td>34.44796</td>\n",
       "      <td>69.28976</td>\n",
       "      <td>1</td>\n",
       "      <td>2</td>\n",
       "    </tr>\n",
       "  </tbody>\n",
       "</table>\n",
       "<p>2 rows × 33 columns</p>\n",
       "</div>"
      ],
      "text/plain": [
       "  ROG3         Ctry  PeopleID3      ROP3 PeopNameAcrossCountries  \\\n",
       "0   AF  Afghanistan      14372  107989.0                  Afghan   \n",
       "1   AF  Afghanistan      19409  100096.0                 Afshari   \n",
       "\n",
       "  PeopNameInCountry  Population  JPScale LeastReached ROL3     ...      \\\n",
       "0            Afghan   8207000.0        1            Y  prs     ...       \n",
       "1           Afshari     13000.0        1            Y  azb     ...       \n",
       "\n",
       "  RegionCode    RegionName  ROG2 Continent  10_40Window  RaceCode  Latitude  \\\n",
       "0          5  Central Asia   ASI      Asia            Y    CNT24f  31.15621   \n",
       "1          5  Central Asia   ASI      Asia            Y    MSY41a  34.44796   \n",
       "\n",
       "  Longitude WorkersMin  WorkersMax  \n",
       "0  62.14612        165         170  \n",
       "1  69.28976          1           2  \n",
       "\n",
       "[2 rows x 33 columns]"
      ]
     },
     "execution_count": 3,
     "metadata": {},
     "output_type": "execute_result"
    }
   ],
   "source": [
    "data.head(2)"
   ]
  },
  {
   "cell_type": "markdown",
   "metadata": {},
   "source": [
    "### Quick plot of world distribution"
   ]
  },
  {
   "cell_type": "code",
   "execution_count": 53,
   "metadata": {
    "collapsed": true
   },
   "outputs": [],
   "source": [
    "world_map = gmplot.GoogleMapPlotter('20.5937', '78.9629',12)"
   ]
  },
  {
   "cell_type": "code",
   "execution_count": 54,
   "metadata": {},
   "outputs": [],
   "source": [
    "for i in range(1,35):\n",
    "    world_map.heatmap(data['Latitude'][500*(i-1):500*i],data['Longitude'][500*(i-1):500*i])"
   ]
  },
  {
   "cell_type": "code",
   "execution_count": 55,
   "metadata": {
    "collapsed": true
   },
   "outputs": [],
   "source": [
    "world_map.draw('World_Map.html')"
   ]
  },
  {
   "cell_type": "markdown",
   "metadata": {},
   "source": [
    "### Distribution by countries"
   ]
  },
  {
   "cell_type": "code",
   "execution_count": 4,
   "metadata": {},
   "outputs": [],
   "source": [
    "import plotly.plotly as py\n",
    "import plotly"
   ]
  },
  {
   "cell_type": "code",
   "execution_count": 5,
   "metadata": {
    "collapsed": true
   },
   "outputs": [],
   "source": [
    "PLOTLY_API_KEY = 'UtfalzPfTgzxCcaORFXn'"
   ]
  },
  {
   "cell_type": "code",
   "execution_count": 6,
   "metadata": {},
   "outputs": [],
   "source": [
    "plotly.tools.set_credentials_file(username='JanakAJain', api_key=PLOTLY_API_KEY)"
   ]
  },
  {
   "cell_type": "code",
   "execution_count": 7,
   "metadata": {},
   "outputs": [],
   "source": [
    "wdata = pd.DataFrame(data.groupby(['Ctry']).count()['ROG3'].sort_values(ascending=False))"
   ]
  },
  {
   "cell_type": "code",
   "execution_count": 8,
   "metadata": {},
   "outputs": [],
   "source": [
    "wdata = wdata.reset_index()"
   ]
  },
  {
   "cell_type": "code",
   "execution_count": 9,
   "metadata": {},
   "outputs": [
    {
     "data": {
      "text/html": [
       "<div>\n",
       "<style>\n",
       "    .dataframe thead tr:only-child th {\n",
       "        text-align: right;\n",
       "    }\n",
       "\n",
       "    .dataframe thead th {\n",
       "        text-align: left;\n",
       "    }\n",
       "\n",
       "    .dataframe tbody tr th {\n",
       "        vertical-align: top;\n",
       "    }\n",
       "</style>\n",
       "<table border=\"1\" class=\"dataframe\">\n",
       "  <thead>\n",
       "    <tr style=\"text-align: right;\">\n",
       "      <th></th>\n",
       "      <th>Ctry</th>\n",
       "      <th>ROG3</th>\n",
       "    </tr>\n",
       "  </thead>\n",
       "  <tbody>\n",
       "    <tr>\n",
       "      <th>0</th>\n",
       "      <td>India</td>\n",
       "      <td>2510</td>\n",
       "    </tr>\n",
       "    <tr>\n",
       "      <th>1</th>\n",
       "      <td>Papua New Guinea</td>\n",
       "      <td>885</td>\n",
       "    </tr>\n",
       "  </tbody>\n",
       "</table>\n",
       "</div>"
      ],
      "text/plain": [
       "               Ctry  ROG3\n",
       "0             India  2510\n",
       "1  Papua New Guinea   885"
      ]
     },
     "execution_count": 9,
     "metadata": {},
     "output_type": "execute_result"
    }
   ],
   "source": [
    "wdata.head(2)"
   ]
  },
  {
   "cell_type": "code",
   "execution_count": 10,
   "metadata": {},
   "outputs": [],
   "source": [
    "wdata['GCode'] = ''\n",
    "for i, row in wdata.iterrows():\n",
    "    try:\n",
    "        wdata.loc[i,'GCode'] = countries.get(wdata.loc[i,'Ctry'])[2]\n",
    "    except:\n",
    "        continue"
   ]
  },
  {
   "cell_type": "code",
   "execution_count": 11,
   "metadata": {
    "collapsed": true
   },
   "outputs": [],
   "source": [
    "#### Note: Some "
   ]
  },
  {
   "cell_type": "code",
   "execution_count": 12,
   "metadata": {
    "collapsed": true
   },
   "outputs": [],
   "source": [
    "wdata = pd.read_csv('geo_data_codes.csv')"
   ]
  },
  {
   "cell_type": "code",
   "execution_count": 13,
   "metadata": {},
   "outputs": [
    {
     "data": {
      "text/html": [
       "<div>\n",
       "<style>\n",
       "    .dataframe thead tr:only-child th {\n",
       "        text-align: right;\n",
       "    }\n",
       "\n",
       "    .dataframe thead th {\n",
       "        text-align: left;\n",
       "    }\n",
       "\n",
       "    .dataframe tbody tr th {\n",
       "        vertical-align: top;\n",
       "    }\n",
       "</style>\n",
       "<table border=\"1\" class=\"dataframe\">\n",
       "  <thead>\n",
       "    <tr style=\"text-align: right;\">\n",
       "      <th></th>\n",
       "      <th>Unnamed: 0</th>\n",
       "      <th>Ctry</th>\n",
       "      <th>ROG3</th>\n",
       "      <th>GCode</th>\n",
       "    </tr>\n",
       "  </thead>\n",
       "  <tbody>\n",
       "    <tr>\n",
       "      <th>0</th>\n",
       "      <td>0</td>\n",
       "      <td>India</td>\n",
       "      <td>2510</td>\n",
       "      <td>IND</td>\n",
       "    </tr>\n",
       "    <tr>\n",
       "      <th>1</th>\n",
       "      <td>1</td>\n",
       "      <td>Papua New Guinea</td>\n",
       "      <td>885</td>\n",
       "      <td>PNG</td>\n",
       "    </tr>\n",
       "    <tr>\n",
       "      <th>2</th>\n",
       "      <td>2</td>\n",
       "      <td>Indonesia</td>\n",
       "      <td>779</td>\n",
       "      <td>IDN</td>\n",
       "    </tr>\n",
       "    <tr>\n",
       "      <th>3</th>\n",
       "      <td>3</td>\n",
       "      <td>Nigeria</td>\n",
       "      <td>544</td>\n",
       "      <td>NGA</td>\n",
       "    </tr>\n",
       "    <tr>\n",
       "      <th>4</th>\n",
       "      <td>4</td>\n",
       "      <td>China</td>\n",
       "      <td>544</td>\n",
       "      <td>CHN</td>\n",
       "    </tr>\n",
       "  </tbody>\n",
       "</table>\n",
       "</div>"
      ],
      "text/plain": [
       "   Unnamed: 0              Ctry  ROG3 GCode\n",
       "0           0             India  2510   IND\n",
       "1           1  Papua New Guinea   885   PNG\n",
       "2           2         Indonesia   779   IDN\n",
       "3           3           Nigeria   544   NGA\n",
       "4           4             China   544   CHN"
      ]
     },
     "execution_count": 13,
     "metadata": {},
     "output_type": "execute_result"
    }
   ],
   "source": [
    "wdata.head()"
   ]
  },
  {
   "cell_type": "code",
   "execution_count": 14,
   "metadata": {},
   "outputs": [],
   "source": [
    "def plot_on_world_map(data, z='ROG3',title='Number of target groups'):\n",
    "    \n",
    "    data = [ dict(\n",
    "        type = 'choropleth',\n",
    "        locations = wdata['GCode'],\n",
    "        z = wdata[z],\n",
    "        text = wdata['Ctry'],\n",
    "        colorscale = [[0,\"rgb(5, 10, 172)\"],[0.35,\"rgb(40, 60, 190)\"],[0.5,\"rgb(70, 100, 245)\"],\\\n",
    "            [0.6,\"rgb(90, 120, 245)\"],[0.7,\"rgb(106, 137, 247)\"],[1,\"rgb(220, 220, 220)\"]],\n",
    "        autocolorscale = False,\n",
    "        reversescale = True,\n",
    "        marker = dict(\n",
    "            line = dict (\n",
    "                color = 'rgb(180,180,180)',\n",
    "                width = 0.5\n",
    "            ) ),\n",
    "        colorbar = dict(\n",
    "            autotick = False,\n",
    "            tickprefix = '',\n",
    "            title = title),\n",
    "      ) ]\n",
    "    \n",
    "    layout = dict(\n",
    "    title = 'Joshua Project Target Areas - '+ z + '<br>Source:\\\n",
    "            <a href=\"https://joshuaproject.net/resources/datasets/1\">\\\n",
    "            Data Available Here</a>',\n",
    "    geo = dict(\n",
    "        showframe = False,\n",
    "        showcoastlines = False,\n",
    "        projection = dict(\n",
    "            type = 'Mercator'\n",
    "            )\n",
    "        )\n",
    "    )\n",
    "    \n",
    "    fig = dict( data=data, layout=layout )\n",
    "    \n",
    "    return py.iplot( fig, validate=False, filename='d3-world-map' )"
   ]
  },
  {
   "cell_type": "code",
   "execution_count": 15,
   "metadata": {},
   "outputs": [
    {
     "name": "stdout",
     "output_type": "stream",
     "text": [
      "High five! You successfuly sent some data to your account on plotly. View your plot in your browser at https://plot.ly/~JanakAJain/0 or inside your plot.ly account where it is named 'd3-world-map'\n"
     ]
    },
    {
     "data": {
      "text/html": [
       "<iframe id=\"igraph\" scrolling=\"no\" style=\"border:none;\" seamless=\"seamless\" src=\"https://plot.ly/~JanakAJain/0.embed\" height=\"525px\" width=\"100%\"></iframe>"
      ],
      "text/plain": [
       "<plotly.tools.PlotlyDisplay object>"
      ]
     },
     "execution_count": 15,
     "metadata": {},
     "output_type": "execute_result"
    }
   ],
   "source": [
    "plot_on_world_map(wdata,'ROG3')"
   ]
  },
  {
   "cell_type": "code",
   "execution_count": 16,
   "metadata": {},
   "outputs": [],
   "source": [
    "wdata = wdata.join(pd.DataFrame(data.groupby(['Ctry']).sum()['Population'].sort_values(ascending=False)), on='Ctry', how = 'left')"
   ]
  },
  {
   "cell_type": "code",
   "execution_count": 17,
   "metadata": {},
   "outputs": [
    {
     "name": "stdout",
     "output_type": "stream",
     "text": [
      "High five! You successfuly sent some data to your account on plotly. View your plot in your browser at https://plot.ly/~JanakAJain/0 or inside your plot.ly account where it is named 'd3-world-map'\n"
     ]
    },
    {
     "data": {
      "text/html": [
       "<iframe id=\"igraph\" scrolling=\"no\" style=\"border:none;\" seamless=\"seamless\" src=\"https://plot.ly/~JanakAJain/0.embed\" height=\"525px\" width=\"100%\"></iframe>"
      ],
      "text/plain": [
       "<plotly.tools.PlotlyDisplay object>"
      ]
     },
     "execution_count": 17,
     "metadata": {},
     "output_type": "execute_result"
    }
   ],
   "source": [
    "plot_on_world_map(wdata,'Population','Population')"
   ]
  },
  {
   "cell_type": "markdown",
   "metadata": {},
   "source": [
    "### Let's look at India"
   ]
  },
  {
   "cell_type": "code",
   "execution_count": 18,
   "metadata": {},
   "outputs": [
    {
     "data": {
      "text/plain": [
       "array(['ROG3', 'Ctry', 'PeopleID3', 'ROP3', 'PeopNameAcrossCountries',\n",
       "       'PeopNameInCountry', 'Population', 'JPScale', 'LeastReached',\n",
       "       'ROL3', 'PrimaryLanguageName', 'BibleStatus', 'RLG3',\n",
       "       'PrimaryReligion', 'PercentAdherents', 'PercentEvangelical',\n",
       "       'PeopleID1', 'ROP1', 'AffinityBloc', 'PeopleID2', 'ROP2',\n",
       "       'PeopleCluster', 'CountOfCountries', 'RegionCode', 'RegionName',\n",
       "       'ROG2', 'Continent', '10_40Window', 'RaceCode', 'Latitude',\n",
       "       'Longitude', 'WorkersMin', 'WorkersMax'], dtype=object)"
      ]
     },
     "execution_count": 18,
     "metadata": {},
     "output_type": "execute_result"
    }
   ],
   "source": [
    "data.columns.values"
   ]
  },
  {
   "cell_type": "code",
   "execution_count": 19,
   "metadata": {
    "collapsed": true
   },
   "outputs": [],
   "source": [
    "india = data[data['Ctry'] == 'India']"
   ]
  },
  {
   "cell_type": "code",
   "execution_count": 20,
   "metadata": {},
   "outputs": [
    {
     "data": {
      "text/plain": [
       "PrimaryReligion\n",
       "Hinduism            1800\n",
       "Islam                380\n",
       "Christianity         135\n",
       "Other / Small         93\n",
       "Buddhism              56\n",
       "Unknown               45\n",
       "Ethnic Religions       1\n",
       "Name: ROG3, dtype: int64"
      ]
     },
     "execution_count": 20,
     "metadata": {},
     "output_type": "execute_result"
    }
   ],
   "source": [
    "india.groupby(['PrimaryReligion']).count()['ROG3'].sort_values(ascending = False)"
   ]
  },
  {
   "cell_type": "code",
   "execution_count": 60,
   "metadata": {},
   "outputs": [],
   "source": [
    "india_top_christian_targets = india[(india['PrimaryReligion'] == 'Christianity') & (india['JPScale'] >= 4)]"
   ]
  },
  {
   "cell_type": "code",
   "execution_count": 61,
   "metadata": {},
   "outputs": [],
   "source": [
    "india_top_c_lat = india_top__christian_targets['Latitude'].astype(float)\n",
    "india_top_c_lon = india_top__christian_targets['Longitude'].astype(float)"
   ]
  },
  {
   "cell_type": "code",
   "execution_count": 62,
   "metadata": {},
   "outputs": [],
   "source": [
    "india_top_c_map = gmplot.GoogleMapPlotter('26.1445', '91.7362','5')"
   ]
  },
  {
   "cell_type": "code",
   "execution_count": 63,
   "metadata": {},
   "outputs": [],
   "source": [
    "india_top_c_map.heatmap(india_top_c_lat, india_top_c_lon)"
   ]
  },
  {
   "cell_type": "code",
   "execution_count": 64,
   "metadata": {},
   "outputs": [],
   "source": [
    "india_top_c_map.draw(\"India_Top_Christian_Targets.html\")"
   ]
  },
  {
   "cell_type": "code",
   "execution_count": 65,
   "metadata": {},
   "outputs": [
    {
     "data": {
      "text/html": [
       "<div>\n",
       "<style>\n",
       "    .dataframe thead tr:only-child th {\n",
       "        text-align: right;\n",
       "    }\n",
       "\n",
       "    .dataframe thead th {\n",
       "        text-align: left;\n",
       "    }\n",
       "\n",
       "    .dataframe tbody tr th {\n",
       "        vertical-align: top;\n",
       "    }\n",
       "</style>\n",
       "<table border=\"1\" class=\"dataframe\">\n",
       "  <thead>\n",
       "    <tr style=\"text-align: right;\">\n",
       "      <th></th>\n",
       "      <th>Latitude</th>\n",
       "      <th>Longitude</th>\n",
       "    </tr>\n",
       "  </thead>\n",
       "  <tbody>\n",
       "    <tr>\n",
       "      <th>6032</th>\n",
       "      <td>25.674381</td>\n",
       "      <td>90.331111</td>\n",
       "    </tr>\n",
       "    <tr>\n",
       "      <th>6902</th>\n",
       "      <td>23.094450</td>\n",
       "      <td>93.188852</td>\n",
       "    </tr>\n",
       "    <tr>\n",
       "      <th>6904</th>\n",
       "      <td>22.980801</td>\n",
       "      <td>93.048139</td>\n",
       "    </tr>\n",
       "    <tr>\n",
       "      <th>6905</th>\n",
       "      <td>22.368490</td>\n",
       "      <td>93.000000</td>\n",
       "    </tr>\n",
       "    <tr>\n",
       "      <th>6906</th>\n",
       "      <td>23.845230</td>\n",
       "      <td>92.879000</td>\n",
       "    </tr>\n",
       "    <tr>\n",
       "      <th>6907</th>\n",
       "      <td>23.845000</td>\n",
       "      <td>92.870000</td>\n",
       "    </tr>\n",
       "  </tbody>\n",
       "</table>\n",
       "</div>"
      ],
      "text/plain": [
       "       Latitude  Longitude\n",
       "6032  25.674381  90.331111\n",
       "6902  23.094450  93.188852\n",
       "6904  22.980801  93.048139\n",
       "6905  22.368490  93.000000\n",
       "6906  23.845230  92.879000\n",
       "6907  23.845000  92.870000"
      ]
     },
     "execution_count": 65,
     "metadata": {},
     "output_type": "execute_result"
    }
   ],
   "source": [
    "india_top_christian_targets[['Latitude','Longitude']]"
   ]
  },
  {
   "cell_type": "code",
   "execution_count": 85,
   "metadata": {},
   "outputs": [],
   "source": [
    "s = geocoder.google([23.094450,93.188852], method='reverse')"
   ]
  },
  {
   "cell_type": "code",
   "execution_count": 86,
   "metadata": {},
   "outputs": [
    {
     "data": {
      "text/plain": [
       "{'accuracy': 'GEOMETRIC_CENTER',\n",
       " 'address': 'Unnamed Road, Khuangthing, Mizoram 796320, India',\n",
       " 'bbox': {'northeast': [23.1011408, 93.2001945],\n",
       "  'southwest': [23.0814655, 93.1960299]},\n",
       " 'city': 'Khuangthing',\n",
       " 'confidence': 7,\n",
       " 'country': 'IN',\n",
       " 'county': 'Champhai',\n",
       " 'encoding': 'utf-8',\n",
       " 'lat': 23.0915817,\n",
       " 'lng': 93.19720730000002,\n",
       " 'location': '23.09445, 93.188852',\n",
       " 'ok': True,\n",
       " 'place': 'ChIJvRgHvELkTDcRLLbAjiYaKNg',\n",
       " 'postal': '796320',\n",
       " 'provider': 'google',\n",
       " 'quality': 'route',\n",
       " 'state': 'MZ',\n",
       " 'status': 'OK',\n",
       " 'status_code': 200,\n",
       " 'street': 'Unnamed Road'}"
      ]
     },
     "execution_count": 86,
     "metadata": {},
     "output_type": "execute_result"
    }
   ],
   "source": [
    "s.json"
   ]
  },
  {
   "cell_type": "markdown",
   "metadata": {},
   "source": [
    "#### All these vulnerable groups belong to (perhaps the most distant) states in the North East."
   ]
  },
  {
   "cell_type": "markdown",
   "metadata": {},
   "source": [
    "### References\n",
    "\n",
    "1. https://en.wikipedia.org/wiki/Joshua_Project"
   ]
  },
  {
   "cell_type": "code",
   "execution_count": null,
   "metadata": {},
   "outputs": [],
   "source": [
    "data.columns.values"
   ]
  },
  {
   "cell_type": "code",
   "execution_count": null,
   "metadata": {
    "collapsed": true
   },
   "outputs": [],
   "source": []
  }
 ],
 "metadata": {
  "kernelspec": {
   "display_name": "Python 3",
   "language": "python",
   "name": "python3"
  },
  "language_info": {
   "codemirror_mode": {
    "name": "ipython",
    "version": 3
   },
   "file_extension": ".py",
   "mimetype": "text/x-python",
   "name": "python",
   "nbconvert_exporter": "python",
   "pygments_lexer": "ipython3",
   "version": "3.6.1"
  }
 },
 "nbformat": 4,
 "nbformat_minor": 2
}
