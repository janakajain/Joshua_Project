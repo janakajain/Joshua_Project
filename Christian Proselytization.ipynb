{
 "cells": [
  {
   "cell_type": "markdown",
   "metadata": {},
   "source": [
    "# Joshua Project - a closer look"
   ]
  },
  {
   "cell_type": "markdown",
   "metadata": {},
   "source": [
    "---  \n",
    "\n",
    "This notebook contains some analysis on data available through <a href='https://joshuaproject.net/'>The Joshua Project </a>- which is described<sup>[1]</sup> as an organization seeking to highlight the ethnic groups of the world with the least followers of evangelical Christianity.  \n",
    "  \n",
    "Joshua Project is an organisation that aims to convert non-Christians across the world and offers highly targeted and specific action points for each of its target groups across countries. The data is publicly available [here](https://joshuaproject.net/resources/datasets).  "
   ]
  },
  {
   "cell_type": "markdown",
   "metadata": {},
   "source": [
    "### Importing the tools and libraries"
   ]
  },
  {
   "cell_type": "code",
   "execution_count": 1,
   "metadata": {},
   "outputs": [],
   "source": [
    "from matplotlib.pylab import rcParams\n",
    "import matplotlib.pyplot as plt\n",
    "from iso3166 import countries\n",
    "import iso3166 as iso\n",
    "import pandas as pd\n",
    "import geocoder\n",
    "import gmaps\n",
    "import math\n",
    "import gmplot\n",
    "\n",
    "\n",
    "\n",
    "\n",
    "%matplotlib inline\n",
    "rcParams['figure.figsize'] = (17,17)"
   ]
  },
  {
   "cell_type": "markdown",
   "metadata": {},
   "source": [
    "### Importing the dataset  \n",
    "  \n",
    "The dataset is available for download [here]()."
   ]
  },
  {
   "cell_type": "code",
   "execution_count": 2,
   "metadata": {},
   "outputs": [],
   "source": [
    "data = pd.read_csv('data/AllPeoplesByCountry.csv', skiprows=1, skipfooter=16, engine='python')"
   ]
  },
  {
   "cell_type": "code",
   "execution_count": 3,
   "metadata": {
    "scrolled": false
   },
   "outputs": [
    {
     "data": {
      "text/html": [
       "<div>\n",
       "<style>\n",
       "    .dataframe thead tr:only-child th {\n",
       "        text-align: right;\n",
       "    }\n",
       "\n",
       "    .dataframe thead th {\n",
       "        text-align: left;\n",
       "    }\n",
       "\n",
       "    .dataframe tbody tr th {\n",
       "        vertical-align: top;\n",
       "    }\n",
       "</style>\n",
       "<table border=\"1\" class=\"dataframe\">\n",
       "  <thead>\n",
       "    <tr style=\"text-align: right;\">\n",
       "      <th></th>\n",
       "      <th>ROG3</th>\n",
       "      <th>Ctry</th>\n",
       "      <th>PeopleID3</th>\n",
       "      <th>ROP3</th>\n",
       "      <th>PeopNameAcrossCountries</th>\n",
       "      <th>PeopNameInCountry</th>\n",
       "      <th>Population</th>\n",
       "      <th>JPScale</th>\n",
       "      <th>LeastReached</th>\n",
       "      <th>ROL3</th>\n",
       "      <th>...</th>\n",
       "      <th>RegionCode</th>\n",
       "      <th>RegionName</th>\n",
       "      <th>ROG2</th>\n",
       "      <th>Continent</th>\n",
       "      <th>10_40Window</th>\n",
       "      <th>RaceCode</th>\n",
       "      <th>Latitude</th>\n",
       "      <th>Longitude</th>\n",
       "      <th>WorkersMin</th>\n",
       "      <th>WorkersMax</th>\n",
       "    </tr>\n",
       "  </thead>\n",
       "  <tbody>\n",
       "    <tr>\n",
       "      <th>0</th>\n",
       "      <td>AF</td>\n",
       "      <td>Afghanistan</td>\n",
       "      <td>14372</td>\n",
       "      <td>107989.0</td>\n",
       "      <td>Afghan</td>\n",
       "      <td>Afghan</td>\n",
       "      <td>8207000.0</td>\n",
       "      <td>1</td>\n",
       "      <td>Y</td>\n",
       "      <td>prs</td>\n",
       "      <td>...</td>\n",
       "      <td>5</td>\n",
       "      <td>Central Asia</td>\n",
       "      <td>ASI</td>\n",
       "      <td>Asia</td>\n",
       "      <td>Y</td>\n",
       "      <td>CNT24f</td>\n",
       "      <td>31.15621</td>\n",
       "      <td>62.14612</td>\n",
       "      <td>165</td>\n",
       "      <td>170</td>\n",
       "    </tr>\n",
       "    <tr>\n",
       "      <th>1</th>\n",
       "      <td>AF</td>\n",
       "      <td>Afghanistan</td>\n",
       "      <td>19409</td>\n",
       "      <td>100096.0</td>\n",
       "      <td>Afshari</td>\n",
       "      <td>Afshari</td>\n",
       "      <td>13000.0</td>\n",
       "      <td>1</td>\n",
       "      <td>Y</td>\n",
       "      <td>azb</td>\n",
       "      <td>...</td>\n",
       "      <td>5</td>\n",
       "      <td>Central Asia</td>\n",
       "      <td>ASI</td>\n",
       "      <td>Asia</td>\n",
       "      <td>Y</td>\n",
       "      <td>MSY41a</td>\n",
       "      <td>34.44796</td>\n",
       "      <td>69.28976</td>\n",
       "      <td>1</td>\n",
       "      <td>2</td>\n",
       "    </tr>\n",
       "  </tbody>\n",
       "</table>\n",
       "<p>2 rows × 33 columns</p>\n",
       "</div>"
      ],
      "text/plain": [
       "  ROG3         Ctry  PeopleID3      ROP3 PeopNameAcrossCountries  \\\n",
       "0   AF  Afghanistan      14372  107989.0                  Afghan   \n",
       "1   AF  Afghanistan      19409  100096.0                 Afshari   \n",
       "\n",
       "  PeopNameInCountry  Population  JPScale LeastReached ROL3     ...      \\\n",
       "0            Afghan   8207000.0        1            Y  prs     ...       \n",
       "1           Afshari     13000.0        1            Y  azb     ...       \n",
       "\n",
       "  RegionCode    RegionName  ROG2 Continent  10_40Window  RaceCode  Latitude  \\\n",
       "0          5  Central Asia   ASI      Asia            Y    CNT24f  31.15621   \n",
       "1          5  Central Asia   ASI      Asia            Y    MSY41a  34.44796   \n",
       "\n",
       "  Longitude WorkersMin  WorkersMax  \n",
       "0  62.14612        165         170  \n",
       "1  69.28976          1           2  \n",
       "\n",
       "[2 rows x 33 columns]"
      ]
     },
     "execution_count": 3,
     "metadata": {},
     "output_type": "execute_result"
    }
   ],
   "source": [
    "data.head(2)"
   ]
  },
  {
   "cell_type": "markdown",
   "metadata": {},
   "source": [
    "### Quick plot of world distribution"
   ]
  },
  {
   "cell_type": "code",
   "execution_count": 4,
   "metadata": {
    "collapsed": true
   },
   "outputs": [],
   "source": [
    "world_map = gmplot.GoogleMapPlotter('20.5937', '78.9629',12)"
   ]
  },
  {
   "cell_type": "code",
   "execution_count": 5,
   "metadata": {},
   "outputs": [],
   "source": [
    "for i in range(1,35):\n",
    "    world_map.heatmap(data['Latitude'][500*(i-1):500*i],data['Longitude'][500*(i-1):500*i])"
   ]
  },
  {
   "cell_type": "code",
   "execution_count": 6,
   "metadata": {
    "collapsed": true
   },
   "outputs": [],
   "source": [
    "world_map.heatmap(data['Latitude'],data['Longitude'])"
   ]
  },
  {
   "cell_type": "code",
   "execution_count": 7,
   "metadata": {
    "collapsed": true
   },
   "outputs": [],
   "source": [
    "world_map.draw('World_Map.html')"
   ]
  },
  {
   "cell_type": "markdown",
   "metadata": {},
   "source": [
    "### Distribution by countries"
   ]
  },
  {
   "cell_type": "code",
   "execution_count": 8,
   "metadata": {},
   "outputs": [],
   "source": [
    "import plotly.plotly as py\n",
    "import plotly"
   ]
  },
  {
   "cell_type": "code",
   "execution_count": 9,
   "metadata": {
    "collapsed": true
   },
   "outputs": [],
   "source": [
    "PLOTLY_API_KEY = open('PLOTLY_API_KEY','r').read().strip('\\'')"
   ]
  },
  {
   "cell_type": "code",
   "execution_count": 10,
   "metadata": {},
   "outputs": [],
   "source": [
    "plotly.tools.set_credentials_file(username='JanakAJain', api_key=PLOTLY_API_KEY)"
   ]
  },
  {
   "cell_type": "code",
   "execution_count": 11,
   "metadata": {},
   "outputs": [],
   "source": [
    "wdata = pd.DataFrame(data.groupby(['Ctry']).count()['ROG3'].sort_values(ascending=False))\n",
    "wdata = wdata.reset_index()"
   ]
  },
  {
   "cell_type": "code",
   "execution_count": 12,
   "metadata": {},
   "outputs": [
    {
     "data": {
      "text/html": [
       "<div>\n",
       "<style>\n",
       "    .dataframe thead tr:only-child th {\n",
       "        text-align: right;\n",
       "    }\n",
       "\n",
       "    .dataframe thead th {\n",
       "        text-align: left;\n",
       "    }\n",
       "\n",
       "    .dataframe tbody tr th {\n",
       "        vertical-align: top;\n",
       "    }\n",
       "</style>\n",
       "<table border=\"1\" class=\"dataframe\">\n",
       "  <thead>\n",
       "    <tr style=\"text-align: right;\">\n",
       "      <th></th>\n",
       "      <th>Ctry</th>\n",
       "      <th>ROG3</th>\n",
       "    </tr>\n",
       "  </thead>\n",
       "  <tbody>\n",
       "    <tr>\n",
       "      <th>0</th>\n",
       "      <td>India</td>\n",
       "      <td>2510</td>\n",
       "    </tr>\n",
       "    <tr>\n",
       "      <th>1</th>\n",
       "      <td>Papua New Guinea</td>\n",
       "      <td>885</td>\n",
       "    </tr>\n",
       "  </tbody>\n",
       "</table>\n",
       "</div>"
      ],
      "text/plain": [
       "               Ctry  ROG3\n",
       "0             India  2510\n",
       "1  Papua New Guinea   885"
      ]
     },
     "execution_count": 12,
     "metadata": {},
     "output_type": "execute_result"
    }
   ],
   "source": [
    "wdata.head(2)"
   ]
  },
  {
   "cell_type": "code",
   "execution_count": 13,
   "metadata": {},
   "outputs": [],
   "source": [
    "# Adding a column to contain ISO complaint 3 character codes for countries\n",
    "\n",
    "wdata['GCode'] = ''\n",
    "for i, row in wdata.iterrows():\n",
    "    try:\n",
    "        wdata.loc[i,'GCode'] = countries.get(wdata.loc[i,'Ctry'])[2]\n",
    "    except:\n",
    "        continue"
   ]
  },
  {
   "cell_type": "code",
   "execution_count": 14,
   "metadata": {
    "collapsed": true
   },
   "outputs": [],
   "source": [
    "# Note: Some country codes were inconsistent with the package's names. The details for these records \n",
    "# were manually entered. The resultant file is available in the data folder. "
   ]
  },
  {
   "cell_type": "code",
   "execution_count": 15,
   "metadata": {},
   "outputs": [
    {
     "data": {
      "text/html": [
       "<div>\n",
       "<style>\n",
       "    .dataframe thead tr:only-child th {\n",
       "        text-align: right;\n",
       "    }\n",
       "\n",
       "    .dataframe thead th {\n",
       "        text-align: left;\n",
       "    }\n",
       "\n",
       "    .dataframe tbody tr th {\n",
       "        vertical-align: top;\n",
       "    }\n",
       "</style>\n",
       "<table border=\"1\" class=\"dataframe\">\n",
       "  <thead>\n",
       "    <tr style=\"text-align: right;\">\n",
       "      <th></th>\n",
       "      <th>Unnamed: 0</th>\n",
       "      <th>Ctry</th>\n",
       "      <th>ROG3</th>\n",
       "      <th>GCode</th>\n",
       "    </tr>\n",
       "  </thead>\n",
       "  <tbody>\n",
       "    <tr>\n",
       "      <th>0</th>\n",
       "      <td>0</td>\n",
       "      <td>India</td>\n",
       "      <td>2510</td>\n",
       "      <td>IND</td>\n",
       "    </tr>\n",
       "    <tr>\n",
       "      <th>1</th>\n",
       "      <td>1</td>\n",
       "      <td>Papua New Guinea</td>\n",
       "      <td>885</td>\n",
       "      <td>PNG</td>\n",
       "    </tr>\n",
       "    <tr>\n",
       "      <th>2</th>\n",
       "      <td>2</td>\n",
       "      <td>Indonesia</td>\n",
       "      <td>779</td>\n",
       "      <td>IDN</td>\n",
       "    </tr>\n",
       "    <tr>\n",
       "      <th>3</th>\n",
       "      <td>3</td>\n",
       "      <td>Nigeria</td>\n",
       "      <td>544</td>\n",
       "      <td>NGA</td>\n",
       "    </tr>\n",
       "    <tr>\n",
       "      <th>4</th>\n",
       "      <td>4</td>\n",
       "      <td>China</td>\n",
       "      <td>544</td>\n",
       "      <td>CHN</td>\n",
       "    </tr>\n",
       "  </tbody>\n",
       "</table>\n",
       "</div>"
      ],
      "text/plain": [
       "   Unnamed: 0              Ctry  ROG3 GCode\n",
       "0           0             India  2510   IND\n",
       "1           1  Papua New Guinea   885   PNG\n",
       "2           2         Indonesia   779   IDN\n",
       "3           3           Nigeria   544   NGA\n",
       "4           4             China   544   CHN"
      ]
     },
     "execution_count": 15,
     "metadata": {},
     "output_type": "execute_result"
    }
   ],
   "source": [
    "wdata = pd.read_csv('data/geo_data_codes.csv')\n",
    "wdata.head()"
   ]
  },
  {
   "cell_type": "markdown",
   "metadata": {},
   "source": [
    "### Function to plot the world maps"
   ]
  },
  {
   "cell_type": "code",
   "execution_count": 16,
   "metadata": {},
   "outputs": [],
   "source": [
    "def plot_on_world_map(data, z='ROG3',title='Number of target groups'):\n",
    "    \n",
    "    data = [ dict(\n",
    "        type = 'choropleth',\n",
    "        locations = wdata['GCode'],\n",
    "        z = wdata[z],\n",
    "        text = wdata['Ctry'],\n",
    "        colorscale = [[0,\"rgb(5, 10, 172)\"],[0.35,\"rgb(40, 60, 190)\"],[0.5,\"rgb(70, 100, 245)\"],\\\n",
    "            [0.6,\"rgb(90, 120, 245)\"],[0.7,\"rgb(106, 137, 247)\"],[1,\"rgb(220, 220, 220)\"]],\n",
    "        autocolorscale = False,\n",
    "        reversescale = True,\n",
    "        marker = dict(\n",
    "            line = dict (\n",
    "                color = 'rgb(180,180,180)',\n",
    "                width = 0.5\n",
    "            ) ),\n",
    "        colorbar = dict(\n",
    "            autotick = False,\n",
    "            tickprefix = '',\n",
    "            title = title),\n",
    "      ) ]\n",
    "    \n",
    "    layout = dict(\n",
    "    title = 'Joshua Project Target Areas - '+ z + '<br>Source:\\\n",
    "            <a href=\"https://joshuaproject.net/resources/datasets/1\">\\\n",
    "            Data Available Here</a>',\n",
    "    geo = dict(\n",
    "        showframe = False,\n",
    "        showcoastlines = False,\n",
    "        projection = dict(\n",
    "            type = 'Mercator'\n",
    "            )\n",
    "        )\n",
    "    )\n",
    "    \n",
    "    fig = dict( data=data, layout=layout )\n",
    "    \n",
    "    return py.iplot( fig, validate=False, filename='d3-world-map' )"
   ]
  },
  {
   "cell_type": "code",
   "execution_count": 17,
   "metadata": {},
   "outputs": [
    {
     "name": "stdout",
     "output_type": "stream",
     "text": [
      "High five! You successfuly sent some data to your account on plotly. View your plot in your browser at https://plot.ly/~JanakAJain/0 or inside your plot.ly account where it is named 'd3-world-map'\n"
     ]
    },
    {
     "data": {
      "text/html": [
       "<iframe id=\"igraph\" scrolling=\"no\" style=\"border:none;\" seamless=\"seamless\" src=\"https://plot.ly/~JanakAJain/0.embed\" height=\"525px\" width=\"100%\"></iframe>"
      ],
      "text/plain": [
       "<plotly.tools.PlotlyDisplay object>"
      ]
     },
     "execution_count": 17,
     "metadata": {},
     "output_type": "execute_result"
    }
   ],
   "source": [
    "plot_on_world_map(wdata,'ROG3')"
   ]
  },
  {
   "cell_type": "code",
   "execution_count": 18,
   "metadata": {},
   "outputs": [],
   "source": [
    "wdata = wdata.join(pd.DataFrame(data.groupby(['Ctry']).sum()['Population'].sort_values(ascending=False)), on='Ctry', how = 'left')"
   ]
  },
  {
   "cell_type": "code",
   "execution_count": 19,
   "metadata": {
    "scrolled": false
   },
   "outputs": [
    {
     "name": "stdout",
     "output_type": "stream",
     "text": [
      "High five! You successfuly sent some data to your account on plotly. View your plot in your browser at https://plot.ly/~JanakAJain/0 or inside your plot.ly account where it is named 'd3-world-map'\n"
     ]
    },
    {
     "data": {
      "text/html": [
       "<iframe id=\"igraph\" scrolling=\"no\" style=\"border:none;\" seamless=\"seamless\" src=\"https://plot.ly/~JanakAJain/0.embed\" height=\"525px\" width=\"100%\"></iframe>"
      ],
      "text/plain": [
       "<plotly.tools.PlotlyDisplay object>"
      ]
     },
     "execution_count": 19,
     "metadata": {},
     "output_type": "execute_result"
    }
   ],
   "source": [
    "plot_on_world_map(wdata,'Population','Population')"
   ]
  },
  {
   "cell_type": "code",
   "execution_count": 20,
   "metadata": {
    "collapsed": true
   },
   "outputs": [],
   "source": [
    "### Mapping the countries with highest "
   ]
  },
  {
   "cell_type": "code",
   "execution_count": 21,
   "metadata": {},
   "outputs": [],
   "source": [
    "wdata = wdata.join(pd.DataFrame(data.groupby(['Ctry']).mean()[['JPScale','PercentAdherents']].sort_values(by=['JPScale','PercentAdherents'],ascending=[False,True])), on='Ctry', how = 'left')"
   ]
  },
  {
   "cell_type": "code",
   "execution_count": 22,
   "metadata": {},
   "outputs": [
    {
     "name": "stdout",
     "output_type": "stream",
     "text": [
      "High five! You successfuly sent some data to your account on plotly. View your plot in your browser at https://plot.ly/~JanakAJain/0 or inside your plot.ly account where it is named 'd3-world-map'\n"
     ]
    },
    {
     "data": {
      "text/html": [
       "<iframe id=\"igraph\" scrolling=\"no\" style=\"border:none;\" seamless=\"seamless\" src=\"https://plot.ly/~JanakAJain/0.embed\" height=\"525px\" width=\"100%\"></iframe>"
      ],
      "text/plain": [
       "<plotly.tools.PlotlyDisplay object>"
      ]
     },
     "execution_count": 22,
     "metadata": {},
     "output_type": "execute_result"
    }
   ],
   "source": [
    "plot_on_world_map(wdata,'JPScale')"
   ]
  },
  {
   "cell_type": "markdown",
   "metadata": {},
   "source": [
    "#### Let's check the countries with top 'performing' missions where Christianity doesn't form a simple majority.  \n",
    "Please note that in many of these countries it is possible for Christianity to still be the primary religion despite not being followed by more than 50% of the population.  \n",
    "  \n",
    "**12 out of 18** of these countries are in Africa."
   ]
  },
  {
   "cell_type": "code",
   "execution_count": 23,
   "metadata": {},
   "outputs": [
    {
     "data": {
      "text/html": [
       "<div>\n",
       "<style>\n",
       "    .dataframe thead tr:only-child th {\n",
       "        text-align: right;\n",
       "    }\n",
       "\n",
       "    .dataframe thead th {\n",
       "        text-align: left;\n",
       "    }\n",
       "\n",
       "    .dataframe tbody tr th {\n",
       "        vertical-align: top;\n",
       "    }\n",
       "</style>\n",
       "<table border=\"1\" class=\"dataframe\">\n",
       "  <thead>\n",
       "    <tr style=\"text-align: right;\">\n",
       "      <th></th>\n",
       "      <th>Unnamed: 0</th>\n",
       "      <th>Ctry</th>\n",
       "      <th>ROG3</th>\n",
       "      <th>GCode</th>\n",
       "      <th>Population</th>\n",
       "      <th>JPScale</th>\n",
       "      <th>PercentAdherents</th>\n",
       "    </tr>\n",
       "  </thead>\n",
       "  <tbody>\n",
       "    <tr>\n",
       "      <th>3</th>\n",
       "      <td>3</td>\n",
       "      <td>Nigeria</td>\n",
       "      <td>544</td>\n",
       "      <td>NGA</td>\n",
       "      <td>191635230.0</td>\n",
       "      <td>3.441176</td>\n",
       "      <td>39.869982</td>\n",
       "    </tr>\n",
       "    <tr>\n",
       "      <th>9</th>\n",
       "      <td>9</td>\n",
       "      <td>Brazil</td>\n",
       "      <td>310</td>\n",
       "      <td>BRA</td>\n",
       "      <td>211097370.0</td>\n",
       "      <td>3.306452</td>\n",
       "      <td>43.550387</td>\n",
       "    </tr>\n",
       "    <tr>\n",
       "      <th>14</th>\n",
       "      <td>14</td>\n",
       "      <td>Philippines</td>\n",
       "      <td>200</td>\n",
       "      <td>PHL</td>\n",
       "      <td>103641180.0</td>\n",
       "      <td>3.715000</td>\n",
       "      <td>43.805500</td>\n",
       "    </tr>\n",
       "    <tr>\n",
       "      <th>19</th>\n",
       "      <td>19</td>\n",
       "      <td>Tanzania</td>\n",
       "      <td>156</td>\n",
       "      <td>TZA</td>\n",
       "      <td>56815900.0</td>\n",
       "      <td>3.653846</td>\n",
       "      <td>47.094551</td>\n",
       "    </tr>\n",
       "    <tr>\n",
       "      <th>20</th>\n",
       "      <td>20</td>\n",
       "      <td>Myanmar (Burma)</td>\n",
       "      <td>146</td>\n",
       "      <td>MMR</td>\n",
       "      <td>54766900.0</td>\n",
       "      <td>3.390411</td>\n",
       "      <td>35.845212</td>\n",
       "    </tr>\n",
       "    <tr>\n",
       "      <th>26</th>\n",
       "      <td>26</td>\n",
       "      <td>Ethiopia</td>\n",
       "      <td>113</td>\n",
       "      <td>ETH</td>\n",
       "      <td>104183400.0</td>\n",
       "      <td>3.327434</td>\n",
       "      <td>45.009327</td>\n",
       "    </tr>\n",
       "    <tr>\n",
       "      <th>27</th>\n",
       "      <td>27</td>\n",
       "      <td>Ghana</td>\n",
       "      <td>112</td>\n",
       "      <td>GHA</td>\n",
       "      <td>28568300.0</td>\n",
       "      <td>3.830357</td>\n",
       "      <td>44.041250</td>\n",
       "    </tr>\n",
       "    <tr>\n",
       "      <th>30</th>\n",
       "      <td>30</td>\n",
       "      <td>Kenya</td>\n",
       "      <td>111</td>\n",
       "      <td>KEN</td>\n",
       "      <td>48354500.0</td>\n",
       "      <td>3.522523</td>\n",
       "      <td>45.112324</td>\n",
       "    </tr>\n",
       "    <tr>\n",
       "      <th>46</th>\n",
       "      <td>46</td>\n",
       "      <td>South Sudan</td>\n",
       "      <td>78</td>\n",
       "      <td>SSD</td>\n",
       "      <td>12858800.0</td>\n",
       "      <td>3.705128</td>\n",
       "      <td>34.032051</td>\n",
       "    </tr>\n",
       "    <tr>\n",
       "      <th>58</th>\n",
       "      <td>58</td>\n",
       "      <td>Benin</td>\n",
       "      <td>65</td>\n",
       "      <td>BEN</td>\n",
       "      <td>11389200.0</td>\n",
       "      <td>3.030769</td>\n",
       "      <td>24.286000</td>\n",
       "    </tr>\n",
       "    <tr>\n",
       "      <th>60</th>\n",
       "      <td>60</td>\n",
       "      <td>Mozambique</td>\n",
       "      <td>62</td>\n",
       "      <td>MOZ</td>\n",
       "      <td>29464000.0</td>\n",
       "      <td>3.129032</td>\n",
       "      <td>41.189032</td>\n",
       "    </tr>\n",
       "    <tr>\n",
       "      <th>65</th>\n",
       "      <td>65</td>\n",
       "      <td>Togo</td>\n",
       "      <td>58</td>\n",
       "      <td>TGO</td>\n",
       "      <td>7635700.0</td>\n",
       "      <td>3.448276</td>\n",
       "      <td>34.915517</td>\n",
       "    </tr>\n",
       "    <tr>\n",
       "      <th>72</th>\n",
       "      <td>72</td>\n",
       "      <td>Botswana</td>\n",
       "      <td>47</td>\n",
       "      <td>BWA</td>\n",
       "      <td>2235730.0</td>\n",
       "      <td>3.765957</td>\n",
       "      <td>49.720425</td>\n",
       "    </tr>\n",
       "    <tr>\n",
       "      <th>93</th>\n",
       "      <td>93</td>\n",
       "      <td>Liberia</td>\n",
       "      <td>39</td>\n",
       "      <td>LBR</td>\n",
       "      <td>4679700.0</td>\n",
       "      <td>3.666667</td>\n",
       "      <td>41.821282</td>\n",
       "    </tr>\n",
       "    <tr>\n",
       "      <th>102</th>\n",
       "      <td>102</td>\n",
       "      <td>Taiwan</td>\n",
       "      <td>35</td>\n",
       "      <td>TWN</td>\n",
       "      <td>23419500.0</td>\n",
       "      <td>3.314286</td>\n",
       "      <td>45.203143</td>\n",
       "    </tr>\n",
       "    <tr>\n",
       "      <th>127</th>\n",
       "      <td>127</td>\n",
       "      <td>Brunei</td>\n",
       "      <td>24</td>\n",
       "      <td>BRN</td>\n",
       "      <td>428260.0</td>\n",
       "      <td>3.166667</td>\n",
       "      <td>16.090000</td>\n",
       "    </tr>\n",
       "    <tr>\n",
       "      <th>129</th>\n",
       "      <td>129</td>\n",
       "      <td>Suriname</td>\n",
       "      <td>24</td>\n",
       "      <td>SUR</td>\n",
       "      <td>528010.0</td>\n",
       "      <td>3.458333</td>\n",
       "      <td>38.208333</td>\n",
       "    </tr>\n",
       "    <tr>\n",
       "      <th>173</th>\n",
       "      <td>173</td>\n",
       "      <td>Korea, South</td>\n",
       "      <td>12</td>\n",
       "      <td>KOR</td>\n",
       "      <td>50573000.0</td>\n",
       "      <td>3.250000</td>\n",
       "      <td>44.485000</td>\n",
       "    </tr>\n",
       "  </tbody>\n",
       "</table>\n",
       "</div>"
      ],
      "text/plain": [
       "     Unnamed: 0             Ctry  ROG3 GCode   Population   JPScale  \\\n",
       "3             3          Nigeria   544   NGA  191635230.0  3.441176   \n",
       "9             9           Brazil   310   BRA  211097370.0  3.306452   \n",
       "14           14      Philippines   200   PHL  103641180.0  3.715000   \n",
       "19           19         Tanzania   156   TZA   56815900.0  3.653846   \n",
       "20           20  Myanmar (Burma)   146   MMR   54766900.0  3.390411   \n",
       "26           26         Ethiopia   113   ETH  104183400.0  3.327434   \n",
       "27           27            Ghana   112   GHA   28568300.0  3.830357   \n",
       "30           30            Kenya   111   KEN   48354500.0  3.522523   \n",
       "46           46      South Sudan    78   SSD   12858800.0  3.705128   \n",
       "58           58            Benin    65   BEN   11389200.0  3.030769   \n",
       "60           60       Mozambique    62   MOZ   29464000.0  3.129032   \n",
       "65           65             Togo    58   TGO    7635700.0  3.448276   \n",
       "72           72         Botswana    47   BWA    2235730.0  3.765957   \n",
       "93           93          Liberia    39   LBR    4679700.0  3.666667   \n",
       "102         102           Taiwan    35   TWN   23419500.0  3.314286   \n",
       "127         127           Brunei    24   BRN     428260.0  3.166667   \n",
       "129         129         Suriname    24   SUR     528010.0  3.458333   \n",
       "173         173     Korea, South    12   KOR   50573000.0  3.250000   \n",
       "\n",
       "     PercentAdherents  \n",
       "3           39.869982  \n",
       "9           43.550387  \n",
       "14          43.805500  \n",
       "19          47.094551  \n",
       "20          35.845212  \n",
       "26          45.009327  \n",
       "27          44.041250  \n",
       "30          45.112324  \n",
       "46          34.032051  \n",
       "58          24.286000  \n",
       "60          41.189032  \n",
       "65          34.915517  \n",
       "72          49.720425  \n",
       "93          41.821282  \n",
       "102         45.203143  \n",
       "127         16.090000  \n",
       "129         38.208333  \n",
       "173         44.485000  "
      ]
     },
     "execution_count": 23,
     "metadata": {},
     "output_type": "execute_result"
    }
   ],
   "source": [
    "wdata[(wdata['PercentAdherents'] <=50.00) & (wdata['JPScale'] >=3)]"
   ]
  },
  {
   "cell_type": "markdown",
   "metadata": {},
   "source": [
    "### Is there a relation between performance and percent of Christian adherents?"
   ]
  },
  {
   "cell_type": "code",
   "execution_count": 24,
   "metadata": {
    "collapsed": true
   },
   "outputs": [],
   "source": [
    "from sklearn.linear_model import LinearRegression\n",
    "from sklearn.model_selection import cross_val_score, train_test_split"
   ]
  },
  {
   "cell_type": "code",
   "execution_count": 25,
   "metadata": {
    "collapsed": true
   },
   "outputs": [],
   "source": [
    "# Let us first create a copy of our dataset\n",
    "\n",
    "reg_data = wdata.copy()"
   ]
  },
  {
   "cell_type": "code",
   "execution_count": 26,
   "metadata": {
    "collapsed": true
   },
   "outputs": [],
   "source": [
    "reg_data = reg_data.dropna()"
   ]
  },
  {
   "cell_type": "code",
   "execution_count": 27,
   "metadata": {},
   "outputs": [],
   "source": [
    "y = reg_data['JPScale']\n",
    "\n",
    "del reg_data['JPScale']\n",
    "\n",
    "X = reg_data[['Population','PercentAdherents','ROG3']]"
   ]
  },
  {
   "cell_type": "code",
   "execution_count": 28,
   "metadata": {},
   "outputs": [],
   "source": [
    "X_train , X_test , y_train , y_test = train_test_split(X,y)"
   ]
  },
  {
   "cell_type": "code",
   "execution_count": 29,
   "metadata": {},
   "outputs": [
    {
     "data": {
      "text/plain": [
       "((176, 3), (59, 3), (176,), (59,))"
      ]
     },
     "execution_count": 29,
     "metadata": {},
     "output_type": "execute_result"
    }
   ],
   "source": [
    "X_train.shape , X_test.shape , y_train.shape , y_test.shape"
   ]
  },
  {
   "cell_type": "code",
   "execution_count": 30,
   "metadata": {},
   "outputs": [],
   "source": [
    "reg_model = LinearRegression().fit(X=X_train,y=y_train)"
   ]
  },
  {
   "cell_type": "code",
   "execution_count": 31,
   "metadata": {},
   "outputs": [],
   "source": [
    "y_pred = reg_model.predict(X_test)"
   ]
  },
  {
   "cell_type": "code",
   "execution_count": 32,
   "metadata": {},
   "outputs": [
    {
     "name": "stdout",
     "output_type": "stream",
     "text": [
      "Score = 71.9487655487%\n"
     ]
    }
   ],
   "source": [
    "print('Score = ' + str(reg_model.score(X_test,y_test)*100) + '%')"
   ]
  },
  {
   "cell_type": "code",
   "execution_count": 33,
   "metadata": {},
   "outputs": [
    {
     "data": {
      "text/plain": [
       "array([ -1.92687601e-09,   3.31158932e-02,   8.92252195e-04])"
      ]
     },
     "execution_count": 33,
     "metadata": {},
     "output_type": "execute_result"
    }
   ],
   "source": [
    "reg_model.coef_"
   ]
  },
  {
   "cell_type": "markdown",
   "metadata": {},
   "source": [
    "#### It seems that JPScale (performance) is <font color='green'> positively correlated </font>with both the number of target groups and percentage of adherent population."
   ]
  },
  {
   "cell_type": "markdown",
   "metadata": {},
   "source": [
    "--- \n",
    "### Let's look at India"
   ]
  },
  {
   "cell_type": "code",
   "execution_count": 34,
   "metadata": {
    "collapsed": true
   },
   "outputs": [],
   "source": [
    "india = data[data['Ctry'] == 'India']"
   ]
  },
  {
   "cell_type": "code",
   "execution_count": 35,
   "metadata": {},
   "outputs": [
    {
     "data": {
      "text/plain": [
       "PrimaryReligion\n",
       "Hinduism            1800\n",
       "Islam                380\n",
       "Christianity         135\n",
       "Other / Small         93\n",
       "Buddhism              56\n",
       "Unknown               45\n",
       "Ethnic Religions       1\n",
       "Name: ROG3, dtype: int64"
      ]
     },
     "execution_count": 35,
     "metadata": {},
     "output_type": "execute_result"
    }
   ],
   "source": [
    "india.groupby(['PrimaryReligion']).count()['ROG3'].sort_values(ascending = False)"
   ]
  },
  {
   "cell_type": "code",
   "execution_count": 36,
   "metadata": {},
   "outputs": [],
   "source": [
    "india_top_christian_targets = india[(india['PrimaryReligion'] == 'Christianity') & (india['JPScale'] >= 4)]"
   ]
  },
  {
   "cell_type": "code",
   "execution_count": 37,
   "metadata": {},
   "outputs": [],
   "source": [
    "india_top_c_lat = india_top_christian_targets['Latitude'].astype(float)\n",
    "india_top_c_lon = india_top_christian_targets['Longitude'].astype(float)"
   ]
  },
  {
   "cell_type": "code",
   "execution_count": 38,
   "metadata": {},
   "outputs": [],
   "source": [
    "india_top_c_map = gmplot.GoogleMapPlotter('26.1445', '91.7362','4')"
   ]
  },
  {
   "cell_type": "code",
   "execution_count": 39,
   "metadata": {},
   "outputs": [],
   "source": [
    "india_top_c_map.heatmap(india_top_c_lat, india_top_c_lon)"
   ]
  },
  {
   "cell_type": "code",
   "execution_count": 40,
   "metadata": {},
   "outputs": [],
   "source": [
    "india_top_c_map.draw(\"India_Top_Christian_Targets.html\")"
   ]
  },
  {
   "cell_type": "code",
   "execution_count": 41,
   "metadata": {},
   "outputs": [
    {
     "data": {
      "text/html": [
       "<div>\n",
       "<style>\n",
       "    .dataframe thead tr:only-child th {\n",
       "        text-align: right;\n",
       "    }\n",
       "\n",
       "    .dataframe thead th {\n",
       "        text-align: left;\n",
       "    }\n",
       "\n",
       "    .dataframe tbody tr th {\n",
       "        vertical-align: top;\n",
       "    }\n",
       "</style>\n",
       "<table border=\"1\" class=\"dataframe\">\n",
       "  <thead>\n",
       "    <tr style=\"text-align: right;\">\n",
       "      <th></th>\n",
       "      <th>Latitude</th>\n",
       "      <th>Longitude</th>\n",
       "    </tr>\n",
       "  </thead>\n",
       "  <tbody>\n",
       "    <tr>\n",
       "      <th>6032</th>\n",
       "      <td>25.674381</td>\n",
       "      <td>90.331111</td>\n",
       "    </tr>\n",
       "    <tr>\n",
       "      <th>6902</th>\n",
       "      <td>23.094450</td>\n",
       "      <td>93.188852</td>\n",
       "    </tr>\n",
       "    <tr>\n",
       "      <th>6904</th>\n",
       "      <td>22.980801</td>\n",
       "      <td>93.048139</td>\n",
       "    </tr>\n",
       "    <tr>\n",
       "      <th>6905</th>\n",
       "      <td>22.368490</td>\n",
       "      <td>93.000000</td>\n",
       "    </tr>\n",
       "    <tr>\n",
       "      <th>6906</th>\n",
       "      <td>23.845230</td>\n",
       "      <td>92.879000</td>\n",
       "    </tr>\n",
       "    <tr>\n",
       "      <th>6907</th>\n",
       "      <td>23.845000</td>\n",
       "      <td>92.870000</td>\n",
       "    </tr>\n",
       "  </tbody>\n",
       "</table>\n",
       "</div>"
      ],
      "text/plain": [
       "       Latitude  Longitude\n",
       "6032  25.674381  90.331111\n",
       "6902  23.094450  93.188852\n",
       "6904  22.980801  93.048139\n",
       "6905  22.368490  93.000000\n",
       "6906  23.845230  92.879000\n",
       "6907  23.845000  92.870000"
      ]
     },
     "execution_count": 41,
     "metadata": {},
     "output_type": "execute_result"
    }
   ],
   "source": [
    "india_top_christian_targets[['Latitude','Longitude']]  # These locations are in the bordering North Eastern areas."
   ]
  },
  {
   "cell_type": "markdown",
   "metadata": {},
   "source": [
    "#### All these vulnerable groups belong to (perhaps the most distant) states in the North East."
   ]
  },
  {
   "cell_type": "markdown",
   "metadata": {},
   "source": [
    "---  \n",
    "## References\n",
    "\n",
    "1. https://en.wikipedia.org/wiki/Joshua_Project"
   ]
  },
  {
   "cell_type": "code",
   "execution_count": null,
   "metadata": {
    "collapsed": true
   },
   "outputs": [],
   "source": []
  }
 ],
 "metadata": {
  "kernelspec": {
   "display_name": "Python 3",
   "language": "python",
   "name": "python3"
  },
  "language_info": {
   "codemirror_mode": {
    "name": "ipython",
    "version": 3
   },
   "file_extension": ".py",
   "mimetype": "text/x-python",
   "name": "python",
   "nbconvert_exporter": "python",
   "pygments_lexer": "ipython3",
   "version": "3.6.1"
  }
 },
 "nbformat": 4,
 "nbformat_minor": 2
}
